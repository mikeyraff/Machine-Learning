{
 "cells": [
  {
   "cell_type": "code",
   "execution_count": 1,
   "id": "0b98ed7d",
   "metadata": {},
   "outputs": [],
   "source": [
    "import numpy as np"
   ]
  },
  {
   "cell_type": "code",
   "execution_count": 2,
   "id": "22674193",
   "metadata": {},
   "outputs": [],
   "source": [
    "data = np.array([9,3,40,10,64,42,38,86,45,15,74,98,66,22,48,96,39,49,20,54,36,7,53,35,79,30,32,67,21,68])"
   ]
  },
  {
   "cell_type": "code",
   "execution_count": 3,
   "id": "53437e5c",
   "metadata": {},
   "outputs": [
    {
     "name": "stdout",
     "output_type": "stream",
     "text": [
      "3\n"
     ]
    }
   ],
   "source": [
    "print(np.amin(data))"
   ]
  },
  {
   "cell_type": "code",
   "execution_count": 4,
   "id": "22f1db09",
   "metadata": {},
   "outputs": [
    {
     "name": "stdout",
     "output_type": "stream",
     "text": [
      "1\n"
     ]
    }
   ],
   "source": [
    "print(np.argmin(data))"
   ]
  },
  {
   "cell_type": "code",
   "execution_count": 5,
   "id": "cbdf4a2e",
   "metadata": {},
   "outputs": [
    {
     "name": "stdout",
     "output_type": "stream",
     "text": [
      "98\n"
     ]
    }
   ],
   "source": [
    "sorted_data = np.sort(data)[::-1]\n",
    "largest_value = sorted_data[0]\n",
    "print(largest_value)"
   ]
  },
  {
   "cell_type": "code",
   "execution_count": 6,
   "id": "af45d6b6",
   "metadata": {},
   "outputs": [
    {
     "name": "stdout",
     "output_type": "stream",
     "text": [
      "29\n"
     ]
    }
   ],
   "source": [
    "sum_lowest_4 = np.sum(np.sort(data)[:4])\n",
    "print(sum_lowest_4)"
   ]
  },
  {
   "cell_type": "code",
   "execution_count": 7,
   "id": "adc84a41",
   "metadata": {},
   "outputs": [
    {
     "name": "stdout",
     "output_type": "stream",
     "text": [
      "25\n"
     ]
    }
   ],
   "source": [
    "indices_sum = np.sum(np.argsort(data)[:4])\n",
    "print(indices_sum)"
   ]
  },
  {
   "cell_type": "code",
   "execution_count": 8,
   "id": "07a6ec3d",
   "metadata": {},
   "outputs": [],
   "source": [
    "student = np.array(['Alex','Betty','Chen','David','Eleanor'])\n",
    "score = np.array([88,93,76,91,80])"
   ]
  },
  {
   "cell_type": "code",
   "execution_count": 9,
   "id": "ac78b6a0",
   "metadata": {},
   "outputs": [
    {
     "name": "stdout",
     "output_type": "stream",
     "text": [
      "2\n"
     ]
    }
   ],
   "source": [
    "sorted_indices = np.argsort(score)[::-1]\n",
    "sorted_students = student[sorted_indices]\n",
    "highest_score_student = sorted_students[0]\n",
    "answer = np.where(student == highest_score_student)[0][0] + 1\n",
    "print(answer)"
   ]
  },
  {
   "cell_type": "code",
   "execution_count": 10,
   "id": "e3b9339f",
   "metadata": {},
   "outputs": [],
   "source": [
    "subset = np.array([35,84,24,61,55,0,48,54,11,33,56,21,86,69,38])"
   ]
  },
  {
   "cell_type": "code",
   "execution_count": 11,
   "id": "b5d841fe",
   "metadata": {},
   "outputs": [
    {
     "name": "stdout",
     "output_type": "stream",
     "text": [
      "282\n"
     ]
    }
   ],
   "source": [
    "sum_values = np.sum(data[np.isin(data, subset)])\n",
    "print(sum_values)"
   ]
  },
  {
   "cell_type": "code",
   "execution_count": 12,
   "id": "257258be",
   "metadata": {},
   "outputs": [
    {
     "name": "stdout",
     "output_type": "stream",
     "text": [
      "664\n"
     ]
    }
   ],
   "source": [
    "even_sum = np.sum(data[::2])\n",
    "print(even_sum)"
   ]
  },
  {
   "cell_type": "code",
   "execution_count": 13,
   "id": "648b3a9b",
   "metadata": {},
   "outputs": [
    {
     "name": "stdout",
     "output_type": "stream",
     "text": [
      "924\n"
     ]
    }
   ],
   "source": [
    "sum_even_values = np.sum(data[data % 2 == 0])\n",
    "print(sum_even_values)"
   ]
  },
  {
   "cell_type": "code",
   "execution_count": 14,
   "id": "3b4cf32b",
   "metadata": {},
   "outputs": [
    {
     "name": "stdout",
     "output_type": "stream",
     "text": [
      "45\n"
     ]
    }
   ],
   "source": [
    "sum_values_in_range = np.sum(data[(data >= 10) & (data <= 20)])\n",
    "print(sum_values_in_range)"
   ]
  },
  {
   "cell_type": "code",
   "execution_count": 16,
   "id": "aa07bd76",
   "metadata": {},
   "outputs": [
    {
     "name": "stdout",
     "output_type": "stream",
     "text": [
      "12\n"
     ]
    }
   ],
   "source": [
    "hamlet = np.loadtxt(\"Hamlet.txt\", dtype=str, delimiter=\"\\n\")\n",
    "word_count = sum([line.count(\"foul\") for line in hamlet])\n",
    "print(word_count)"
   ]
  }
 ],
 "metadata": {
  "kernelspec": {
   "display_name": "Python 3 (ipykernel)",
   "language": "python",
   "name": "python3"
  },
  "language_info": {
   "codemirror_mode": {
    "name": "ipython",
    "version": 3
   },
   "file_extension": ".py",
   "mimetype": "text/x-python",
   "name": "python",
   "nbconvert_exporter": "python",
   "pygments_lexer": "ipython3",
   "version": "3.9.12"
  }
 },
 "nbformat": 4,
 "nbformat_minor": 5
}
