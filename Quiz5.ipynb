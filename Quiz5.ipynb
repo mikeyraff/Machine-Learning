{
 "cells": [
  {
   "cell_type": "code",
   "execution_count": 1,
   "id": "935381cc",
   "metadata": {},
   "outputs": [],
   "source": [
    "import pandas as pd\n",
    "df = pd.read_csv('http://www.stat.wisc.edu/~jgillett/451/data/mtcars.csv', index_col=0)"
   ]
  },
  {
   "cell_type": "code",
   "execution_count": 2,
   "id": "98d91a1d",
   "metadata": {},
   "outputs": [
    {
     "name": "stdout",
     "output_type": "stream",
     "text": [
      "11\n"
     ]
    }
   ],
   "source": [
    "num_columns = df.shape[1]\n",
    "print(num_columns)"
   ]
  },
  {
   "cell_type": "code",
   "execution_count": 3,
   "id": "243373cf",
   "metadata": {},
   "outputs": [
    {
     "name": "stdout",
     "output_type": "stream",
     "text": [
      "5\n"
     ]
    }
   ],
   "source": [
    "combination_counts = df.groupby(['vs', 'carb']).size()\n",
    "num = combination_counts.loc[1, 2]\n",
    "print(num)"
   ]
  },
  {
   "cell_type": "code",
   "execution_count": 4,
   "id": "e8367bef",
   "metadata": {},
   "outputs": [
    {
     "name": "stdout",
     "output_type": "stream",
     "text": [
      "52\n"
     ]
    }
   ],
   "source": [
    "lowest_hp = df['hp'].min()\n",
    "print(lowest_hp)"
   ]
  },
  {
   "cell_type": "code",
   "execution_count": 5,
   "id": "bb3a0f5f",
   "metadata": {},
   "outputs": [
    {
     "name": "stdout",
     "output_type": "stream",
     "text": [
      "2\n"
     ]
    }
   ],
   "source": [
    "car_with_lowest_hp = df['hp'].idxmin()\n",
    "options = [\"Mazda RX4\", \"Toyota Corolla\", \"Honda Civic\", \"Maserati Bora\", \"Camaro Z28\"]\n",
    "answer = options.index(car_with_lowest_hp)\n",
    "print(answer)"
   ]
  },
  {
   "cell_type": "code",
   "execution_count": 6,
   "id": "499d82d6",
   "metadata": {},
   "outputs": [
    {
     "name": "stdout",
     "output_type": "stream",
     "text": [
      "146.6875\n"
     ]
    }
   ],
   "source": [
    "average_hp = df['hp'].mean()\n",
    "print(average_hp)"
   ]
  },
  {
   "cell_type": "code",
   "execution_count": 7,
   "id": "6dd2e5b9",
   "metadata": {},
   "outputs": [
    {
     "name": "stdout",
     "output_type": "stream",
     "text": [
      "75.7\n"
     ]
    }
   ],
   "source": [
    "disp_honda_civic = df.loc['Honda Civic', 'disp']\n",
    "print(disp_honda_civic)"
   ]
  },
  {
   "cell_type": "code",
   "execution_count": 8,
   "id": "8bc93951",
   "metadata": {},
   "outputs": [
    {
     "name": "stdout",
     "output_type": "stream",
     "text": [
      "0.8544003745317535\n"
     ]
    }
   ],
   "source": [
    "df2 = df.iloc[:4, :3]\n",
    "std_mileage = df2['mpg'].std()\n",
    "print(std_mileage)"
   ]
  },
  {
   "cell_type": "code",
   "execution_count": 9,
   "id": "be6ce37c",
   "metadata": {},
   "outputs": [
    {
     "name": "stdout",
     "output_type": "stream",
     "text": [
      "4\n"
     ]
    }
   ],
   "source": [
    "df3 = df[['hp', 'qsec', 'gear']]\n",
    "value = df3.iloc[1, 2]\n",
    "print(value)"
   ]
  },
  {
   "cell_type": "code",
   "execution_count": 10,
   "id": "678ce205",
   "metadata": {},
   "outputs": [
    {
     "name": "stdout",
     "output_type": "stream",
     "text": [
      "1\n"
     ]
    }
   ],
   "source": [
    "sorted_df = df.sort_index(ascending=False)\n",
    "fourth_row_car = sorted_df.index[3]\n",
    "answer_sorted = options.index(fourth_row_car)\n",
    "print(answer_sorted)"
   ]
  },
  {
   "cell_type": "code",
   "execution_count": 11,
   "id": "387b5d46",
   "metadata": {},
   "outputs": [
    {
     "name": "stdout",
     "output_type": "stream",
     "text": [
      "14.3\n"
     ]
    }
   ],
   "source": [
    "sorted_df2 = df.sort_values(by=['gear', 'hp'], ascending=[True, False])\n",
    "mileage_first_row = sorted_df2['mpg'].iloc[0]\n",
    "print(mileage_first_row)"
   ]
  },
  {
   "cell_type": "code",
   "execution_count": 12,
   "id": "686c8046",
   "metadata": {},
   "outputs": [],
   "source": [
    "import pandas as pd\n",
    "\n",
    "# Given data\n",
    "data = [\n",
    "    [19,\"M\",168.7,\"amber\",\"auburn\"],\n",
    "    [20,\"F\",138.7,\"amber\",\"blond\"],\n",
    "    [21,\"M\",164.9,\"hazel\",\"gray\"],\n",
    "    [21,\"F\",191.5,\"gray\",\"blond\"],\n",
    "    [24,\"F\",167.8,\"brown\",\"red\"],\n",
    "    [17,\"M\",93.6,\"green\",\"auburn\"],\n",
    "    [13,\"F\",142,\"hazel\",\"auburn\"],\n",
    "    [25,\"F\",179.6,\"brown\",\"white\"],\n",
    "    [18,\"M\",179.6,\"amber\",\"auburn\"],\n",
    "    [16,\"F\",210.3,\"blue\",\"red\"],\n",
    "    [19,\"F\",146.1,\"blue\",\"black\"],\n",
    "    [19,\"M\",234.4,\"hazel\",\"blond\"],\n",
    "    [19,\"M\",231.8,\"green\",\"gray\"],\n",
    "    [20,\"F\",237.9,\"green\",\"black\"],\n",
    "    [18,\"M\",199.1,\"hazel\",\"white\"],\n",
    "    [17,\"F\",204.7,\"gray\",\"brown\"],\n",
    "    [14,\"M\",202.8,\"brown\",\"chestnut\"],\n",
    "    [20,\"M\",242,\"gray\",\"auburn\"],\n",
    "    [21,\"F\",108.3,\"blue\",\"gray\"],\n",
    "    [24,\"F\",91.9,\"gray\",\"chestnut\"]\n",
    "]\n",
    "columns = [\"age\",\"sex\",\"weight\",\"eye_color\",\"hair_color\"]\n",
    "df = pd.DataFrame(data, columns=columns)"
   ]
  },
  {
   "cell_type": "code",
   "execution_count": 13,
   "id": "436efe54",
   "metadata": {},
   "outputs": [
    {
     "name": "stdout",
     "output_type": "stream",
     "text": [
      "11. Mean age of females: 20.00\n"
     ]
    }
   ],
   "source": [
    "# Question 11\n",
    "mean_age_females = df[df['sex'] == 'F']['age'].mean()\n",
    "print(f\"11. Mean age of females: {mean_age_females:.2f}\")"
   ]
  },
  {
   "cell_type": "code",
   "execution_count": 14,
   "id": "e037aaa9",
   "metadata": {},
   "outputs": [
    {
     "name": "stdout",
     "output_type": "stream",
     "text": [
      "12. Mean age of males with brown eyes: 14.00\n"
     ]
    }
   ],
   "source": [
    "# Question 12\n",
    "mean_age_males_brown_eyes = df[(df['sex'] == 'M') & (df['eye_color'] == 'brown')]['age'].mean()\n",
    "print(f\"12. Mean age of males with brown eyes: {mean_age_males_brown_eyes:.2f}\")"
   ]
  },
  {
   "cell_type": "code",
   "execution_count": 15,
   "id": "c7956213",
   "metadata": {},
   "outputs": [
    {
     "name": "stdout",
     "output_type": "stream",
     "text": [
      "13. Number of people with black, blond, or brown hair: 6\n"
     ]
    }
   ],
   "source": [
    "# Question 13\n",
    "people_with_specified_hair = df[df['hair_color'].isin(['black', 'blond', 'brown'])].shape[0]\n",
    "print(f\"13. Number of people with black, blond, or brown hair: {people_with_specified_hair}\")"
   ]
  },
  {
   "cell_type": "code",
   "execution_count": 17,
   "id": "203a1a26",
   "metadata": {},
   "outputs": [
    {
     "name": "stdout",
     "output_type": "stream",
     "text": [
      "14. Number of people with hazel eyes but not gray hair: 3\n"
     ]
    }
   ],
   "source": [
    "# Question 14\n",
    "people_hazel_eyes_not_gray_hair = df[(df['eye_color'] == 'hazel') & (df['hair_color'] != 'gray')].shape[0]\n",
    "print(f\"14. Number of people with hazel eyes but not gray hair: {people_hazel_eyes_not_gray_hair}\")"
   ]
  }
 ],
 "metadata": {
  "kernelspec": {
   "display_name": "Python 3 (ipykernel)",
   "language": "python",
   "name": "python3"
  },
  "language_info": {
   "codemirror_mode": {
    "name": "ipython",
    "version": 3
   },
   "file_extension": ".py",
   "mimetype": "text/x-python",
   "name": "python",
   "nbconvert_exporter": "python",
   "pygments_lexer": "ipython3",
   "version": "3.9.12"
  }
 },
 "nbformat": 4,
 "nbformat_minor": 5
}
