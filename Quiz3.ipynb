{
 "cells": [
  {
   "cell_type": "code",
   "execution_count": 1,
   "id": "61ad5ccb",
   "metadata": {},
   "outputs": [
    {
     "name": "stdout",
     "output_type": "stream",
     "text": [
      "Python\n"
     ]
    }
   ],
   "source": [
    "s = 'Learn Python in STAT 451'\n",
    "t = s[6:12]\n",
    "print(t)"
   ]
  },
  {
   "cell_type": "code",
   "execution_count": 2,
   "id": "49daf737",
   "metadata": {},
   "outputs": [
    {
     "name": "stdout",
     "output_type": "stream",
     "text": [
      "Learn machine learning in STAT 451\n"
     ]
    }
   ],
   "source": [
    "t = s[:6] + 'machine learning' + s[12:]\n",
    "print(t)"
   ]
  },
  {
   "cell_type": "code",
   "execution_count": 3,
   "id": "2273d5c7",
   "metadata": {},
   "outputs": [
    {
     "name": "stdout",
     "output_type": "stream",
     "text": [
      "Learn machine learning in STAT 451\n"
     ]
    }
   ],
   "source": [
    "idx = s.index('Python')\n",
    "t = s[:idx] + 'machine learning' + s[idx+6:]\n",
    "print(t)"
   ]
  },
  {
   "cell_type": "code",
   "execution_count": 4,
   "id": "c10126c7",
   "metadata": {},
   "outputs": [
    {
     "name": "stdout",
     "output_type": "stream",
     "text": [
      "learn python in stat 451\n"
     ]
    }
   ],
   "source": [
    "t = s.lower()\n",
    "print(t)"
   ]
  },
  {
   "cell_type": "code",
   "execution_count": 5,
   "id": "3eaca5c7",
   "metadata": {},
   "outputs": [
    {
     "name": "stdout",
     "output_type": "stream",
     "text": [
      "x=1, y=2, z=3.\n"
     ]
    }
   ],
   "source": [
    "x=1\n",
    "y=2\n",
    "z=3\n",
    "print(f'x={x}, y={y}, z={z}.')"
   ]
  },
  {
   "cell_type": "code",
   "execution_count": 6,
   "id": "de2dd293",
   "metadata": {},
   "outputs": [
    {
     "name": "stdout",
     "output_type": "stream",
     "text": [
      "('Anna', 3, ('July', 2017))\n"
     ]
    }
   ],
   "source": [
    "t = ('Anna', 3, ('July', 2017))\n",
    "print(t)"
   ]
  },
  {
   "cell_type": "code",
   "execution_count": 7,
   "id": "43538bd0",
   "metadata": {},
   "outputs": [
    {
     "name": "stdout",
     "output_type": "stream",
     "text": [
      "['milk', 'eggs', 'flour', 'spinach', 'cereal']\n"
     ]
    }
   ],
   "source": [
    "groceries = ['milk', 'eggs', 'flour']\n",
    "more = ['spinach', 'cereal']\n",
    "groceries.extend(more)\n",
    "print(groceries)"
   ]
  },
  {
   "cell_type": "code",
   "execution_count": 8,
   "id": "ed069bd9",
   "metadata": {},
   "outputs": [
    {
     "name": "stdout",
     "output_type": "stream",
     "text": [
      "7\n"
     ]
    }
   ],
   "source": [
    "x = [7,9,1,9,4,6,7]\n",
    "n = len(x)\n",
    "print(n)"
   ]
  },
  {
   "cell_type": "code",
   "execution_count": 9,
   "id": "55f70563",
   "metadata": {},
   "outputs": [
    {
     "name": "stdout",
     "output_type": "stream",
     "text": [
      "43\n"
     ]
    }
   ],
   "source": [
    "x_sum = sum(x)\n",
    "print(x_sum)"
   ]
  },
  {
   "cell_type": "code",
   "execution_count": 10,
   "id": "87a8daf4",
   "metadata": {},
   "outputs": [
    {
     "name": "stdout",
     "output_type": "stream",
     "text": [
      "6.142857142857143\n"
     ]
    }
   ],
   "source": [
    "x_bar = x_sum / n\n",
    "print(x_bar)"
   ]
  },
  {
   "cell_type": "code",
   "execution_count": 11,
   "id": "83476216",
   "metadata": {},
   "outputs": [
    {
     "name": "stdout",
     "output_type": "stream",
     "text": [
      "48.85714285714286\n"
     ]
    }
   ],
   "source": [
    "ssd_x = 0\n",
    "for xi in x:\n",
    "    ssd_x += (xi - x_bar) ** 2\n",
    "print(ssd_x)"
   ]
  },
  {
   "cell_type": "code",
   "execution_count": 12,
   "id": "6350626b",
   "metadata": {},
   "outputs": [
    {
     "name": "stdout",
     "output_type": "stream",
     "text": [
      "8.142857142857144\n"
     ]
    }
   ],
   "source": [
    "var_x = ssd_x / (n-1)\n",
    "print(var_x)"
   ]
  }
 ],
 "metadata": {
  "kernelspec": {
   "display_name": "Python 3 (ipykernel)",
   "language": "python",
   "name": "python3"
  },
  "language_info": {
   "codemirror_mode": {
    "name": "ipython",
    "version": 3
   },
   "file_extension": ".py",
   "mimetype": "text/x-python",
   "name": "python",
   "nbconvert_exporter": "python",
   "pygments_lexer": "ipython3",
   "version": "3.9.12"
  }
 },
 "nbformat": 4,
 "nbformat_minor": 5
}
